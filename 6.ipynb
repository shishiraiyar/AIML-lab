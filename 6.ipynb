{
  "nbformat": 4,
  "nbformat_minor": 0,
  "metadata": {
    "colab": {
      "provenance": [],
      "authorship_tag": "ABX9TyPKIdQMbi5OBi8Kk9/6/LtX",
      "include_colab_link": true
    },
    "kernelspec": {
      "name": "python3",
      "display_name": "Python 3"
    },
    "language_info": {
      "name": "python"
    }
  },
  "cells": [
    {
      "cell_type": "markdown",
      "metadata": {
        "id": "view-in-github",
        "colab_type": "text"
      },
      "source": [
        "<a href=\"https://colab.research.google.com/github/shishiraiyar/AIML-lab/blob/main/6.ipynb\" target=\"_parent\"><img src=\"https://colab.research.google.com/assets/colab-badge.svg\" alt=\"Open In Colab\"/></a>"
      ]
    },
    {
      "cell_type": "code",
      "execution_count": 1,
      "metadata": {
        "id": "1bhPyo6Z4xtJ"
      },
      "outputs": [],
      "source": [
        "import numpy as np\n",
        "from sklearn import datasets\n",
        "from sklearn.model_selection import train_test_split"
      ]
    },
    {
      "cell_type": "code",
      "source": [
        "iris = datasets.load_iris()\n",
        "x = iris.data\n",
        "y = iris.target"
      ],
      "metadata": {
        "id": "GUmVe5SfAnEU"
      },
      "execution_count": 2,
      "outputs": []
    },
    {
      "cell_type": "code",
      "source": [
        "x[:10]"
      ],
      "metadata": {
        "colab": {
          "base_uri": "https://localhost:8080/"
        },
        "id": "sg0ZFdpdAuBS",
        "outputId": "cf08d6c1-94b5-4f63-a903-4cccab67d69d"
      },
      "execution_count": 3,
      "outputs": [
        {
          "output_type": "execute_result",
          "data": {
            "text/plain": [
              "array([[5.1, 3.5, 1.4, 0.2],\n",
              "       [4.9, 3. , 1.4, 0.2],\n",
              "       [4.7, 3.2, 1.3, 0.2],\n",
              "       [4.6, 3.1, 1.5, 0.2],\n",
              "       [5. , 3.6, 1.4, 0.2],\n",
              "       [5.4, 3.9, 1.7, 0.4],\n",
              "       [4.6, 3.4, 1.4, 0.3],\n",
              "       [5. , 3.4, 1.5, 0.2],\n",
              "       [4.4, 2.9, 1.4, 0.2],\n",
              "       [4.9, 3.1, 1.5, 0.1]])"
            ]
          },
          "metadata": {},
          "execution_count": 3
        }
      ]
    },
    {
      "cell_type": "code",
      "source": [
        "x_train, x_test, y_train, y_test = train_test_split(x, y,test_size=0.2, random_state=42)"
      ],
      "metadata": {
        "id": "onn1xxbZA0CR"
      },
      "execution_count": 6,
      "outputs": []
    },
    {
      "cell_type": "code",
      "source": [
        "class NaiveBayes:\n",
        "  def fit(self, x, y):\n",
        "    n_samples, n_features = x.shape\n",
        "    self.classes = np.unique(y)\n",
        "    n_classes = len(self.classes)\n",
        "\n",
        "    self.means = np.zeros((n_classes, n_features))\n",
        "    self.vars = np.zeros((n_classes, n_features))\n",
        "    self.priors = np.zeros(n_classes)\n",
        "\n",
        "    for i in range(n_classes):\n",
        "      c = self.classes[i]\n",
        "      x_c = x[y==c]\n",
        "      self.means[i, :] = x_c.mean(axis=0)                 # try with self.means[i]\n",
        "      self.vars[i, :] = x_c.var(axis=0)\n",
        "      self.priors[i] = x_c.shape[0] / x.shape[0]\n",
        "\n",
        "  def predictOne(self, x):\n",
        "    posteriors = []  # Probability of each class label. In the end we return the one with max probability\n",
        "\n",
        "    for i in range(len(self.classes)):\n",
        "      c = self.classes[i]\n",
        "      prior = np.log(self.priors[i])\n",
        "      class_conditional = np.sum(np.log(self.pdf(x, i)))\n",
        "      posterior = prior + class_conditional\n",
        "      posteriors.append(posterior)\n",
        "\n",
        "    return self.classes[np.argmax(posteriors)]\n",
        "\n",
        "  def predict(self, X):\n",
        "    return [self.predictOne(x) for x in X]\n",
        "\n",
        "  def pdf(self, x, i):\n",
        "    mean = self.means[i]\n",
        "    var = self.vars[i]\n",
        "    numerator = np.exp(-(x-mean)**2/2*var)\n",
        "    denominator = 2*np.pi*var\n",
        "    return numerator/denominator"
      ],
      "metadata": {
        "id": "u8AAYiPLjEdQ"
      },
      "execution_count": 29,
      "outputs": []
    },
    {
      "cell_type": "code",
      "source": [
        "from sklearn.naive_bayes import GaussianNB as NaiveBayes"
      ],
      "metadata": {
        "id": "4zBKE1duEhuW"
      },
      "execution_count": 17,
      "outputs": []
    },
    {
      "cell_type": "code",
      "source": [
        "nb = NaiveBayes()\n",
        "nb.fit(x_train, y_train)\n",
        "x_train.shape, y_train.shape"
      ],
      "metadata": {
        "id": "NtCfjofgG3E5",
        "colab": {
          "base_uri": "https://localhost:8080/"
        },
        "outputId": "1b4acb49-08bc-4b23-816e-c97a62b3abf3"
      },
      "execution_count": 31,
      "outputs": [
        {
          "output_type": "execute_result",
          "data": {
            "text/plain": [
              "((120, 4), (120,))"
            ]
          },
          "metadata": {},
          "execution_count": 31
        }
      ]
    },
    {
      "cell_type": "code",
      "source": [
        "y_pred = nb.predict(x_test)\n",
        "np.mean(y_pred == y_test)"
      ],
      "metadata": {
        "id": "F9k_HRTsizoy",
        "colab": {
          "base_uri": "https://localhost:8080/"
        },
        "outputId": "dfd5fab0-f8f3-4c66-a4f3-53ccd680cc08"
      },
      "execution_count": 32,
      "outputs": [
        {
          "output_type": "execute_result",
          "data": {
            "text/plain": [
              "0.3333333333333333"
            ]
          },
          "metadata": {},
          "execution_count": 32
        }
      ]
    }
  ]
}